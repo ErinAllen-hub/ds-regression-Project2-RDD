{
 "cells": [
  {
   "cell_type": "markdown",
   "id": "1ebc46f5",
   "metadata": {},
   "source": [
    "# Regression Project2 - RDD\n",
    "\n",
    "\n",
    "### Requirements: \n",
    "\n",
    "#### A - find data on * at least * one COVID measure for y:\n",
    "\n",
    "either:\n",
    "\n",
    "    1 - COVID cases\n",
    "    2 - hospitalizations\n",
    "    3 - deaths\n",
    "#### B - Use RDD to estimate the effect of the following events in Quebec:\n",
    "\n",
    "- D1. 20/3/2020 - lockdown\n",
    "\n",
    "- D2. 31/8/2020 - The reopening of schools \n",
    "\n",
    "- D3. 25/12/2020 - lockdown\n",
    "\n",
    "#### C - provide the following for each:\n",
    "\n",
    "- c.1) A RDD plot similar to the ones shown above\n",
    "\n",
    "- c.2) An interpretation of the p-value on the effect of the measure taken (the cutoff parameter)\n",
    "\n",
    "- c.3) A justification on the design of your regression:\n",
    "\n",
    "       The amount of time included on both sides of the cutoff (longer is not necessarily better)\n",
    "\n",
    "       The polynomial degree (higher is not always better)\n",
    "\n",
    "       Other regression design considerations\n",
    "\n",
    "- c.4) A 2 paragraph explanation of your findings for that event."
   ]
  },
  {
   "cell_type": "markdown",
   "id": "e2dab0b3",
   "metadata": {},
   "source": [
    "#### Data Sources:\n",
    "    https://www.donneesquebec.ca/recherche/dataset/covid-19-portrait-quotidien-des-cas-confirmes\n",
    "    https://www.inspq.qc.ca/covid-19/donnees\n",
    "\n",
    "    https://www.inspq.qc.ca/sites/default/files/covid/donnees/covid19-hist.csv\n",
    "    the columns explained  https://github.com/SimonCoulombe/covidtwitterbot\n",
    "    \n",
    "    https://ourworldindata.org/explorers/coronavirus-data-explorer?zoomToSelection=true&time=2020-03-01..latest&facet=none&pickerSort=asc&pickerMetric=location&Metric=Hospital+patients&Interval=7-day+rolling+average&Relative+to+Population=true&Color+by+test+positivity=false&country=~CAN\n",
    "    https://health-infobase.canada.ca/covid-19/#a3\n",
    "    https://health-infobase.canada.ca/src/data/covidLive/covid19-download.csv"
   ]
  },
  {
   "cell_type": "code",
   "execution_count": null,
   "id": "27d9a73a",
   "metadata": {},
   "outputs": [],
   "source": [
    "import os\n",
    "import matplotlib.pyplot as plt \n",
    "import numpy as np \n",
    "from statsmodels.formula.api import ols\n",
    "import pandas as pd\n",
    "from patsy import dmatrices\n",
    "import scipy.stats as sc\n",
    "from sklearn.preprocessing import PolynomialFeatures\n",
    "from sklearn.metrics import r2_score\n",
    "import seaborn as sns \n",
    "import statsmodels.api as sm\n",
    "\n",
    "from sklearn.linear_model import LinearRegression\n",
    "from sklearn.linear_model import LogisticRegression\n",
    "from sklearn.model_selection import train_test_split\n",
    "from sklearn import linear_model\n",
    "from sklearn import metrics\n",
    "from sklearn.pipeline import make_pipeline\n",
    "from sklearn.metrics import r2_score\n",
    "from sklearn.base import BaseEstimator, TransformerMixin\n",
    "from sklearn.metrics import classification_report\n",
    "from sklearn.metrics import confusion_matrix\n",
    "from sklearn.linear_model import Ridge\n",
    "\n",
    "import scipy.stats\n",
    "import scipy.special\n",
    "\n",
    "from sklearn.model_selection import train_test_split\n",
    "\n",
    "sns.set()"
   ]
  },
  {
   "cell_type": "markdown",
   "id": "69ba4c76",
   "metadata": {},
   "source": [
    "####  DATAFRAMES"
   ]
  },
  {
   "cell_type": "code",
   "execution_count": null,
   "id": "7777b058",
   "metadata": {},
   "outputs": [],
   "source": [
    "# os.getcwd()\n",
    "\n",
    "#    - COVID CASES -\n",
    "df_cov = pd.read_csv('data/graph_1-1_page_par_region.csv')\n",
    "df_cov\n",
    "\n",
    "#    - HOSPITALIZATIONS -\n",
    "df_hosp = pd.read_csv('data/graph_3-1_page_par_region.csv')\n",
    "#df_hosp\n",
    "\n",
    "#    - DEATH -\n",
    "df_death = pd.read_csv('https://msss.gouv.qc.ca/professionnels/statistiques/documents/covid19/COVID19_Qc_RapportINSPQ_HistoVigie.csv')\n",
    "#df_death = pd.read_csv('https://msss.gouv.qc.ca/professionnels/statistiques/documents/covid19/COVID19_Qc_RapportINSPQ_VigieCategories.csv')\n",
    "#df_death = pd.read_csv('https://health-infobase.canada.ca/src/data/covidLive/covid19-download.csv')\n",
    "\n",
    "df_cov.rename({\n",
    "    'Date de résultat du test':'Date',\n",
    "    'Cas confirmés':'Cases',\n",
    "}, axis=1, inplace=True)\n",
    "\n",
    "df_cov['Date'] = pd.to_datetime(df_cov['Date'])\n",
    "\n",
    "df_hosp.rename({\n",
    "    \"Date d'admission\":'Date',\n",
    "    'Hors soins intensifs':'Not Intensive',\n",
    "    'Aux soins intensifs':'Intensive',\n",
    "}, axis=1, inplace=True)\n",
    "df_hosp['Cases'] = df_hosp['Not Intensive'] + df_hosp['Intensive']\n",
    "\n",
    "df_hosp['Date'] = pd.to_datetime(df_hosp['Date'])\n",
    "\n",
    "\n",
    "from datetime import datetime\n",
    "\n",
    "class ts:  # we'll use this for time calculations\n",
    "    def fromdate(x): return datetime.timestamp(x)/60/60/24\n",
    "    def days(x): return x\n",
    "\n",
    "dates = [\n",
    "    [\n",
    "        datetime.strptime('2020-03-05','%Y-%m-%d'),  # when we start fitting the data\n",
    "        datetime.strptime('2020-03-20','%Y-%m-%d'),  # lockdown\n",
    "        datetime.strptime('2020-04-01','%Y-%m-%d'),  # when we stop fitting the data\n",
    "    ],\n",
    "    [\n",
    "        datetime.strptime('2020-08-20','%Y-%m-%d'),\n",
    "        datetime.strptime('2020-08-31','%Y-%m-%d'),\n",
    "        datetime.strptime('2020-09-21','%Y-%m-%d'),\n",
    "    ],\n",
    "    [\n",
    "        datetime.strptime('2020-12-05','%Y-%m-%d'),\n",
    "        datetime.strptime('2020-12-25','%Y-%m-%d'),\n",
    "        datetime.strptime('2021-01-25','%Y-%m-%d'),\n",
    "    ],\n",
    "]\n",
    "\n",
    "# convert all dates to days\n",
    "ts.dates = [\n",
    "    [ts.fromdate(i) for i in x] for x in dates\n",
    "]\n",
    "\n",
    "# offset in days, not implemented yet,\n",
    "# we'll have to take into consideration the incubation time\n",
    "# and time for data collection so our models are more accurate\n",
    "# but we can change it for each event we're looking at\n",
    "offsets = [\n",
    "    6,  # offset (in days) after lockdown for the change to affect the data\n",
    "    10,\n",
    "    12,\n",
    "]\n",
    "\n",
    "# convert columns to days (days since 1970, we'll subtract from it later to place it near zero)\n",
    "df_hosp['Date'] = df_hosp['Date'].map(ts.fromdate)\n",
    "df_cov['Date'] = df_cov['Date'].map(ts.fromdate)\n",
    "\n",
    "df_hosp = df_hosp.dropna()\n",
    "\n",
    "offset = 8\n",
    "\n",
    "# if 1:  # uncomment if we remove the for loop\n",
    "for offset in range(0, 20, 1):\n",
    "\n",
    "    offset_time = ts.days(offset)  # incubation time\n",
    "\n",
    "    fig, (ax1, ax2, ax3) = plt.subplots(1, 3, figsize = (13,4), dpi = 90)\n",
    "    axes=[ax1, ax2, ax3]\n",
    "\n",
    "    for i in range(len(axes)):\n",
    "        ax = axes[i]\n",
    "\n",
    "#         offset=offsets[i] # add later!\n",
    "\n",
    "        lockdown = ts.dates[i][1]\n",
    "        before = ts.dates[i][0] - lockdown  # these are offsets\n",
    "        after = ts.dates[i][2] - lockdown  # these are offsets\n",
    "        \n",
    "        # --------------------------------------------\n",
    "        \n",
    "        df_cov2 = df_cov.copy()  # model fitting\n",
    "        df_hosp2 = df_hosp.copy()  # model fitting\n",
    "\n",
    "        df_cov2['Date'] -= lockdown + offset_time  # 0 is not lockdown, 0 is lockdown + incubation time, etc\n",
    "        df_cov2 = df_cov2.loc[df_cov2['Date'] < after]  # remove before max date\n",
    "        df_cov2 = df_cov2.loc[df_cov2['Date'] > before]  # remove after min date\n",
    "        df_hosp2['Date'] -= lockdown + offset_time\n",
    "        df_hosp2 = df_hosp2.loc[df_hosp2['Date'] < after]\n",
    "        df_hosp2 = df_hosp2.loc[df_hosp2['Date'] > before]\n",
    "\n",
    "        df_cov2['Lockdown'] = (df_cov2['Date'] > 0).astype(int)\n",
    "        df_hosp2['Lockdown'] = (df_hosp2['Date'] > 0).astype(int)\n",
    "\n",
    "        # --------------------------------------------\n",
    "        \n",
    "        df_cov3 = df_cov.copy()  # display\n",
    "        df_hosp3 = df_hosp.copy()  # display\n",
    "        \n",
    "        display_size = 6\n",
    "        \n",
    "        df_cov3['Date'] -= lockdown + offset_time\n",
    "        df_cov3 = df_cov3.loc[df_cov3['Date'] < after*display_size]  # display_size times more data\n",
    "        df_cov3 = df_cov3.loc[df_cov3['Date'] > before*display_size]\n",
    "        df_hosp3['Date'] -= lockdown + offset_time\n",
    "        df_hosp3 = df_hosp3.loc[df_hosp3['Date'] < after*display_size]\n",
    "        df_hosp3 = df_hosp3.loc[df_hosp3['Date'] > before*display_size]\n",
    "\n",
    "        # --------------------------------------------\n",
    "        \n",
    "        real_lockdown=-offset_time  # we'll draw a line when the real lockdown happened\n",
    "        ax.plot([real_lockdown, real_lockdown], [0, 2000], c='#000', alpha=1.0, linewidth=0.5, label='Lockdown')\n",
    "        ax.plot([0, 0], [0, 2000], c='#888', alpha=1.0, linewidth=0.5, label='0')\n",
    "\n",
    "        # --------------------------------------------\n",
    "        \n",
    "        # both scatter and plot\n",
    "        linewidth=0.5\n",
    "        ax.scatter(df_cov3['Date'], df_cov3['Cases'], c='green', alpha=0.25, s=2.5, label='cases')\n",
    "        ax.scatter(df_hosp3['Date'], df_hosp3['Cases'], c='red', alpha=0.25, s=2.5, label='hospital')\n",
    "        ax.plot(df_cov3['Date'], df_cov3['Cases'], c='green', alpha=0.25, linewidth=linewidth, label='cases')\n",
    "        ax.plot(df_hosp3['Date'], df_hosp3['Cases'], c='red', alpha=0.25, linewidth=linewidth, label='hospital')\n",
    "\n",
    "        # --------------------------------------------\n",
    "        \n",
    "        formula='''Cases ~ \n",
    "            Date\n",
    "            + Lockdown\n",
    "            + Date*Lockdown\n",
    "        '''\n",
    "#         model1=ols(formula,data=df_cov2).fit()\n",
    "#         model2=ols(formula,data=df_hosp2).fit()\n",
    "#         ax.plot(df_hosp2['Date'],model2.predict(df_cov2),c='orange',alpha=1.0,linewidth=1.0,label='predict2')\n",
    "#         ax.plot(df_hosp2['Date'],model2.predict(df_cov2),c='orange',alpha=1.0,linewidth=1.0,label='predict2')\n",
    "\n",
    "        y, x = dmatrices(formula, df_cov2, return_type='dataframe')\n",
    "        model1 = sm.OLS(y, x).fit()\n",
    "        ax.plot(df_cov2['Date'], model1.predict(x), c='teal', alpha=1.0, linewidth=1.0, label='predict')\n",
    "        y, x = dmatrices(formula, df_hosp2, return_type='dataframe')\n",
    "        model2 = sm.OLS(y, x).fit()\n",
    "        ax.plot(df_hosp2['Date'], model2.predict(x), c='orange', alpha=1.0, linewidth=1.0, label='predict2')\n",
    "\n",
    "        ax.legend(fancybox=True, framealpha=0.2)\n",
    "\n",
    "    plt.show()\n",
    "    print(f'this is {offset}')"
   ]
  },
  {
   "cell_type": "code",
   "execution_count": null,
   "id": "5dfc1927",
   "metadata": {},
   "outputs": [],
   "source": [
    "# df_cov['Date']-ts.dates[0]\n",
    "# df_cov\n",
    "# df_cov = pd.read_csv('data/graph_1-1_page_par_region.csv')\n",
    "# df_cov.loc[df_cov['Cas confirmés']>0]\n",
    "# df_cov2\n",
    "\n",
    "model1.summary()"
   ]
  },
  {
   "cell_type": "code",
   "execution_count": null,
   "id": "d7c5df15",
   "metadata": {},
   "outputs": [],
   "source": [
    "# model.summary()\n",
    "# ts.days"
   ]
  },
  {
   "cell_type": "code",
   "execution_count": null,
   "id": "8af55e13",
   "metadata": {},
   "outputs": [],
   "source": [
    "# y,x=dmatrices('Cases ~ Date',df_cov)\n",
    "\n",
    "# model=sm.OLS(y,x).fit()\n",
    "# model.summary()\n"
   ]
  },
  {
   "cell_type": "code",
   "execution_count": null,
   "id": "d0280ced",
   "metadata": {},
   "outputs": [],
   "source": []
  },
  {
   "cell_type": "code",
   "execution_count": null,
   "id": "63a25415",
   "metadata": {},
   "outputs": [],
   "source": [
    "#df.columns\n"
   ]
  },
  {
   "cell_type": "markdown",
   "id": "f24e77e9",
   "metadata": {},
   "source": [
    "## 1- COVID CASES"
   ]
  },
  {
   "cell_type": "markdown",
   "id": "f06729b4",
   "metadata": {},
   "source": [
    "#### A- Dependances and Response definition"
   ]
  },
  {
   "cell_type": "code",
   "execution_count": null,
   "id": "84f4d2d4",
   "metadata": {},
   "outputs": [],
   "source": [
    "# if a common df is used, use: df.copy()\n"
   ]
  },
  {
   "cell_type": "code",
   "execution_count": null,
   "id": "cef2a128",
   "metadata": {},
   "outputs": [],
   "source": [
    "x_cov =[['','',]]\n",
    "y_cov =[['']]"
   ]
  },
  {
   "cell_type": "markdown",
   "id": "0ecf2dcb",
   "metadata": {},
   "source": [
    "#### B- RDD for D1. 20/3/2020 | D2. 31/8/2020 | D3. 25/12/2020 "
   ]
  },
  {
   "cell_type": "code",
   "execution_count": null,
   "id": "c6f27a86",
   "metadata": {},
   "outputs": [],
   "source": []
  },
  {
   "cell_type": "markdown",
   "id": "385e7091",
   "metadata": {},
   "source": [
    "#### C.1) PLOT"
   ]
  },
  {
   "cell_type": "code",
   "execution_count": null,
   "id": "18bc7ac8",
   "metadata": {},
   "outputs": [],
   "source": []
  },
  {
   "cell_type": "markdown",
   "id": "07a2df91",
   "metadata": {},
   "source": [
    "#### C.2) Interpretation of the p-value on the effect of the measure taken"
   ]
  },
  {
   "cell_type": "code",
   "execution_count": null,
   "id": "6f9f6399",
   "metadata": {},
   "outputs": [],
   "source": []
  },
  {
   "cell_type": "markdown",
   "id": "5bd0ffc2",
   "metadata": {},
   "source": [
    "#### C.3) Justification on the design of your regression"
   ]
  },
  {
   "cell_type": "code",
   "execution_count": null,
   "id": "41a93e01",
   "metadata": {},
   "outputs": [],
   "source": []
  },
  {
   "cell_type": "markdown",
   "id": "de4f1416",
   "metadata": {},
   "source": [
    "#### C.4)  paragraph explanation of your findings for that event."
   ]
  },
  {
   "cell_type": "code",
   "execution_count": null,
   "id": "aa8da997",
   "metadata": {},
   "outputs": [],
   "source": []
  },
  {
   "cell_type": "markdown",
   "id": "0b8024d0",
   "metadata": {},
   "source": [
    "### 2- HOSPITALIZATIONS"
   ]
  },
  {
   "cell_type": "markdown",
   "id": "42f44fc1",
   "metadata": {},
   "source": [
    "#### A- Dependances and Response definition"
   ]
  },
  {
   "cell_type": "code",
   "execution_count": null,
   "id": "13f4eb94",
   "metadata": {},
   "outputs": [],
   "source": [
    "# if a common df is used, use: df.copy()\n"
   ]
  },
  {
   "cell_type": "markdown",
   "id": "948969bb",
   "metadata": {},
   "source": [
    "#### B- RDD for D1. 20/3/2020 | D2. 31/8/2020 | D3. 25/12/2020"
   ]
  },
  {
   "cell_type": "code",
   "execution_count": null,
   "id": "f19f1117",
   "metadata": {},
   "outputs": [],
   "source": []
  },
  {
   "cell_type": "markdown",
   "id": "1cd3496a",
   "metadata": {},
   "source": [
    "#### C.1) PLOT"
   ]
  },
  {
   "cell_type": "code",
   "execution_count": null,
   "id": "9d50bf53",
   "metadata": {},
   "outputs": [],
   "source": []
  },
  {
   "cell_type": "markdown",
   "id": "b923003d",
   "metadata": {},
   "source": [
    "#### C.2) Interpretation of the p-value on the effect of the measure taken"
   ]
  },
  {
   "cell_type": "code",
   "execution_count": null,
   "id": "a45daaa5",
   "metadata": {},
   "outputs": [],
   "source": []
  },
  {
   "cell_type": "markdown",
   "id": "6f63ce1a",
   "metadata": {},
   "source": [
    "#### C.3) Justification on the design of your regression"
   ]
  },
  {
   "cell_type": "code",
   "execution_count": null,
   "id": "c9622da5",
   "metadata": {},
   "outputs": [],
   "source": []
  },
  {
   "cell_type": "markdown",
   "id": "953d6276",
   "metadata": {},
   "source": [
    "#### C.4) paragraph explanation of your findings for that event."
   ]
  },
  {
   "cell_type": "code",
   "execution_count": null,
   "id": "6e20f290",
   "metadata": {},
   "outputs": [],
   "source": []
  },
  {
   "cell_type": "markdown",
   "id": "d3a04105",
   "metadata": {},
   "source": [
    "### 3- DEATHS"
   ]
  },
  {
   "cell_type": "markdown",
   "id": "e0d3fbd9",
   "metadata": {},
   "source": [
    "#### A- Dependances and Response definition"
   ]
  },
  {
   "cell_type": "code",
   "execution_count": null,
   "id": "a6573871",
   "metadata": {},
   "outputs": [],
   "source": [
    "# if a common df is used, use: df.copy()\n"
   ]
  },
  {
   "cell_type": "markdown",
   "id": "e9c54409",
   "metadata": {},
   "source": [
    "#### B- RDD for D1. 20/3/2020 | D2. 31/8/2020 | D3. 25/12/2020"
   ]
  },
  {
   "cell_type": "code",
   "execution_count": null,
   "id": "25c4fd62",
   "metadata": {},
   "outputs": [],
   "source": []
  },
  {
   "cell_type": "markdown",
   "id": "c062bdb4",
   "metadata": {},
   "source": [
    "#### C.1) PLOT"
   ]
  },
  {
   "cell_type": "code",
   "execution_count": null,
   "id": "0c79eb6c",
   "metadata": {},
   "outputs": [],
   "source": []
  },
  {
   "cell_type": "markdown",
   "id": "8b94c5e0",
   "metadata": {},
   "source": [
    "#### C.2) Interpretation of the p-value on the effect of the measure taken"
   ]
  },
  {
   "cell_type": "code",
   "execution_count": null,
   "id": "71d0b875",
   "metadata": {},
   "outputs": [],
   "source": []
  },
  {
   "cell_type": "markdown",
   "id": "3477f78a",
   "metadata": {},
   "source": [
    "#### C.3) Justification on the design of your regression"
   ]
  },
  {
   "cell_type": "code",
   "execution_count": null,
   "id": "41d76b3c",
   "metadata": {},
   "outputs": [],
   "source": []
  },
  {
   "cell_type": "markdown",
   "id": "b379930e",
   "metadata": {},
   "source": [
    "#### C.4)  paragraph explanation of your findings for that event."
   ]
  },
  {
   "cell_type": "code",
   "execution_count": null,
   "id": "68d3a89b",
   "metadata": {},
   "outputs": [],
   "source": []
  },
  {
   "cell_type": "code",
   "execution_count": null,
   "id": "b5025542",
   "metadata": {},
   "outputs": [],
   "source": []
  },
  {
   "cell_type": "code",
   "execution_count": null,
   "id": "6ec0724f",
   "metadata": {},
   "outputs": [],
   "source": []
  },
  {
   "cell_type": "markdown",
   "id": "6aaa3c27",
   "metadata": {},
   "source": [
    "# - CONCLUSION -\n",
    "### A 2 paragraph explanation of your findings for that event."
   ]
  },
  {
   "cell_type": "code",
   "execution_count": null,
   "id": "1ba97019",
   "metadata": {},
   "outputs": [],
   "source": []
  }
 ],
 "metadata": {
  "kernelspec": {
   "display_name": "Python 3 (ipykernel)",
   "language": "python",
   "name": "python3"
  },
  "language_info": {
   "codemirror_mode": {
    "name": "ipython",
    "version": 3
   },
   "file_extension": ".py",
   "mimetype": "text/x-python",
   "name": "python",
   "nbconvert_exporter": "python",
   "pygments_lexer": "ipython3",
   "version": "3.9.13"
  }
 },
 "nbformat": 4,
 "nbformat_minor": 5
}

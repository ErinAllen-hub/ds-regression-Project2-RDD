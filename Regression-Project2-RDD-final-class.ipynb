{
 "cells": [
  {
   "cell_type": "markdown",
   "id": "1ebc46f5",
   "metadata": {},
   "source": [
    "# Regression Project2 - RDD\n"
   ]
  },
  {
   "cell_type": "markdown",
   "id": "e2dab0b3",
   "metadata": {},
   "source": [
    "#### Data Source:\n",
    "    https://www.inspq.qc.ca/sites/default/files/covid/donnees/covid19-hist.csv"
   ]
  },
  {
   "cell_type": "markdown",
   "id": "17e4ed09",
   "metadata": {},
   "source": [
    "## RDD Analysis"
   ]
  },
  {
   "cell_type": "code",
   "execution_count": null,
   "id": "27d9a73a",
   "metadata": {},
   "outputs": [],
   "source": [
    "import os\n",
    "import matplotlib.pyplot as plt \n",
    "import numpy as np \n",
    "from statsmodels.formula.api import ols\n",
    "import pandas as pd\n",
    "from patsy import dmatrices\n",
    "import scipy.stats as sc\n",
    "import seaborn as sns \n",
    "import statsmodels.api as sm\n",
    "import scipy.stats\n",
    "import scipy.special\n",
    "\n",
    "sns.set()"
   ]
  },
  {
   "cell_type": "code",
   "execution_count": null,
   "id": "7777b058",
   "metadata": {},
   "outputs": [],
   "source": [
    "#    - COVID CASES -\n",
    "df_cov = pd.read_csv('data/graph_1-1_page_par_region.csv')\n",
    "df_cov\n",
    "\n",
    "df_cov.rename({\n",
    "    'Date de résultat du test':'Date',\n",
    "    'Cas confirmés':'Cases',\n",
    "}, axis=1, inplace=True)\n",
    "\n",
    "df_cov['Date'] = pd.to_datetime(df_cov['Date'])\n",
    "\n",
    "\n",
    "from datetime import datetime\n",
    "\n",
    "# convert dates to days since 1970\n",
    "def fromdate(x): return datetime.timestamp(x)/60/60/24\n",
    "\n",
    "# convert columns to days (days since 1970, we'll subtract from it later to place it near zero)\n",
    "df_cov['Date'] = df_cov['Date'].map(fromdate)\n",
    "\n",
    "\n",
    "class event():\n",
    "    def __init__(self, formula, feature, name, dates, offset_time = 14):\n",
    "        \n",
    "        self.formula=formula\n",
    "        self.feature=feature\n",
    "        self.name=name\n",
    "        \n",
    "        # convert all dates to days\n",
    "        self.date=fromdate(datetime.strptime(dates[1],'%Y-%m-%d'))\n",
    "        self.before=fromdate(datetime.strptime(dates[0],'%Y-%m-%d'))\n",
    "        self.after=fromdate(datetime.strptime(dates[2],'%Y-%m-%d'))\n",
    "        \n",
    "        self.offset_time=offset_time\n",
    "        \n",
    "    def summary(self):\n",
    "        return self.model.summary()\n",
    "\n",
    "    def plot(self,ax,display_size = 6):\n",
    "        \n",
    "        lockdown = self.date  # date of the event, not relative time\n",
    "        offset_time = self.offset_time # observation date, relative to event\n",
    "        observation = lockdown + offset_time # observation date, not relative time\n",
    "        before = self.before - observation  # fitting date start, relative to observation\n",
    "        after = self.after - observation  # fitting date end, relative to observation\n",
    "        \n",
    "        df_cov2 = df_cov.copy()  # make a dataframe copy for relative time to offset_time days after the event\n",
    "        \n",
    "        # --------------------------------------------\n",
    "\n",
    "        df_cov2['Date'] -= observation  # dataframe df_cov2 is relative to our observation date\n",
    "        df_cov2 = df_cov2.loc[df_cov2['Date'] < after]  # remove before max date\n",
    "        df_cov2 = df_cov2.loc[df_cov2['Date'] > before]  # remove after min date\n",
    "\n",
    "        df_cov2[self.feature] = (df_cov2['Date'] > 0).astype(int)\n",
    "\n",
    "        # --------------------------------------------\n",
    "\n",
    "        df_cov3 = df_cov.copy()  # display\n",
    "\n",
    "        df_cov3['Date'] -= observation  # dataframe df_cov3 is relative to our observation date\n",
    "        df_cov3 = df_cov3.loc[df_cov3['Date'] < after*display_size]  # display_size times more data\n",
    "        df_cov3 = df_cov3.loc[df_cov3['Date'] > before*display_size]\n",
    "\n",
    "        # --------------------------------------------\n",
    "\n",
    "        real_lockdown=-offset_time  # we'll draw a line when the real lockdown happened\n",
    "        top = df_cov3['Cases'].max()\n",
    "        ax.plot([real_lockdown, real_lockdown], [0, top], c='#888', alpha=1.0, linewidth=0.5, label=self.name)\n",
    "        ax.plot([0, 0], [0, top], c='#000', alpha=1.0, linewidth=0.5, label='Two Week')\n",
    "\n",
    "        # --------------------------------------------\n",
    "\n",
    "        # both scatter and plot\n",
    "        linewidth=0.5\n",
    "        ax.scatter(df_cov3['Date'], df_cov3['Cases'], c='orange', alpha=1, s=2.5, label='Cases')\n",
    "        ax.plot(df_cov3['Date'], df_cov3['Cases'], c='orange', alpha=1, linewidth=linewidth)\n",
    "\n",
    "        # --------------------------------------------\n",
    "\n",
    "        formula = self.formula \n",
    "\n",
    "        y, x = dmatrices(formula, df_cov2, return_type='dataframe')\n",
    "        self.model = sm.OLS(y, x).fit()\n",
    "        ax.plot(df_cov2['Date'], self.model.predict(x), c='blue', alpha=1.0, linewidth=1.0, label='Predict')\n",
    "        ax.set_xlabel('Days')\n",
    "        ax.set_ylabel('Cases')\n",
    "        ax.tick_params(labelrotation=90)\n",
    "        \n",
    "        n_weeks = 6\n",
    "        view_start=-7*n_weeks-offset_time\n",
    "        view_end=7*n_weeks-offset_time\n",
    "        \n",
    "        ax.set_xticks(np.linspace(view_start,view_end,7))\n",
    "        ax.set_xticklabels([f'Week {int((x+offset_time)/7)}' for x in np.linspace(view_start,view_end,7)])\n",
    "        ax.tick_params(labelrotation=90)\n",
    "        ax.legend(fancybox=True, framealpha=0.2)\n",
    "\n",
    "\n"
   ]
  },
  {
   "cell_type": "markdown",
   "id": "acbc3368",
   "metadata": {},
   "source": [
    "## Model Summaries"
   ]
  },
  {
   "cell_type": "code",
   "execution_count": null,
   "id": "7a6e5846",
   "metadata": {},
   "outputs": [],
   "source": [
    "lockdown = event('''Cases ~ \n",
    "        Date\n",
    "        + Lockdown\n",
    "        + Lockdown:Date\n",
    "    ''',\n",
    "    feature='Lockdown',\n",
    "    name = 'Lockdown',\n",
    "    dates = [\n",
    "        '2020-03-19',  # \n",
    "        '2020-03-20',  # lockdown\n",
    "        '2020-04-18',  # 4 weeks after the event, 2 weeks after observation\n",
    "    ],\n",
    "    offset_time = 14\n",
    ")\n",
    "\n",
    "fig, (ax) = plt.subplots(1,1, figsize = (10,4), dpi = 90)\n",
    "lockdown.plot(ax,display_size=4)\n",
    "fig.suptitle('Effects of First Lockdown on Covid-19')\n",
    "plt.show()"
   ]
  },
  {
   "cell_type": "code",
   "execution_count": null,
   "id": "5dfc1927",
   "metadata": {
    "scrolled": false
   },
   "outputs": [],
   "source": [
    "lockdown.summary()"
   ]
  },
  {
   "cell_type": "markdown",
   "id": "21eb68a4",
   "metadata": {},
   "source": [
    "#### All p-values are significant at 95% confidence (P<0.05)\n",
    "\n",
    "#### A strong impact of the lockdown on Covid-19 cases is seen instantly through the significant p-value (P<0.05) of Lockdown.\n",
    "\n",
    "#### A strong impact of the lockdown on Covid-19 cases is seen over time through the significant p-value (P<0.05) of Lockdown:Date combined.\n",
    "\n",
    "#### This demonstrates that there was a significant effect of the first lockdown in March 2020 on the number of Covid-19 cases."
   ]
  },
  {
   "cell_type": "code",
   "execution_count": null,
   "id": "1a296cc8",
   "metadata": {},
   "outputs": [],
   "source": [
    "\n",
    "schools = event('''Cases ~ \n",
    "        Date\n",
    "        + School\n",
    "        + School:Date\n",
    "    ''',\n",
    "    feature='School',\n",
    "    name='School Opening',\n",
    "    dates=[\n",
    "        '2020-08-23', # 1 week before the event, 3 weeks before observation\n",
    "        '2020-08-31',\n",
    "        '2020-09-28', # 4 weeks after the event, 2 weeks after observation\n",
    "    ])\n",
    "\n",
    "fig, (ax) = plt.subplots(1, 1, figsize = (10,4), dpi = 90)\n",
    "schools.plot(ax, display_size=4)\n",
    "fig.suptitle('Effects of Schools Reopening on Covid-19')\n",
    "plt.show()"
   ]
  },
  {
   "cell_type": "code",
   "execution_count": null,
   "id": "585c9afb",
   "metadata": {},
   "outputs": [],
   "source": [
    "schools.summary()"
   ]
  },
  {
   "cell_type": "markdown",
   "id": "b877873c",
   "metadata": {},
   "source": [
    "#### All p-values are significant at 95% confidence (P<0.05)\n",
    "\n",
    "#### A strong impact of the lockdown on Covid-19 cases is seen instantly through the significant p-value (P<0.05) of School.\n",
    "\n",
    "#### A strong impact of the lockdown on Covid-19 cases is seen over time through the significant p-value (P<0.000) of School:Date combined.\n",
    "\n",
    "#### This demonstrates that there was a significant effect of schools reopening in August 2020 on the number of Covid-19 cases. \n"
   ]
  },
  {
   "cell_type": "code",
   "execution_count": null,
   "id": "c1e98d83",
   "metadata": {},
   "outputs": [],
   "source": [
    "\n",
    "lockdown2 = event('''Cases ~ \n",
    "        Date\n",
    "        + Lockdown\n",
    "        + Date:Lockdown\n",
    "    ''',\n",
    "    feature='Lockdown',\n",
    "    name='Dec Lockdown',\n",
    "    dates=[\n",
    "        '2020-12-18', # 1 week before the event, 3 weeks before observation\n",
    "        '2020-12-25',\n",
    "        '2021-01-23', # 4 weeks after the event, 2 weeks after observation\n",
    "    ])\n",
    "\n",
    "fig, (ax) = plt.subplots(1, 1, figsize = (10, 4), dpi = 90)\n",
    "lockdown2.plot(ax, display_size=4)\n",
    "fig.suptitle('Effects of the Second Lockdown on Covid-19')\n",
    "plt.show()"
   ]
  },
  {
   "cell_type": "code",
   "execution_count": null,
   "id": "b4306395",
   "metadata": {},
   "outputs": [],
   "source": [
    "lockdown2.summary()"
   ]
  },
  {
   "cell_type": "markdown",
   "id": "9e830804",
   "metadata": {},
   "source": [
    "#### All p-values are significant at 95% confidence (P<0.05)\n",
    "\n",
    "#### A strong impact of the lockdown on Covid-19 cases is seen instantly through the significant p-value (P<0.05) of Lockdown.\n",
    "\n",
    "#### A strong impact of the lockdown on Covid-19 cases is seen over time through the significant p-value (P<0.000) of Lockdown:Date combined.\n",
    "\n",
    "#### This demonstrates that the second lockdown in December 2020 had a significant impact on the number of Covid-19 cases. \n"
   ]
  },
  {
   "cell_type": "markdown",
   "id": "78c4e277",
   "metadata": {},
   "source": [
    "## Justifications"
   ]
  },
  {
   "cell_type": "markdown",
   "id": "a74df1ed",
   "metadata": {},
   "source": [
    "No polynomial features added to the RDD model as they did not allow for accurate interpretation of the data as seen by the p-values, no polynomial features we tried to add were statistically significant. "
   ]
  },
  {
   "cell_type": "markdown",
   "id": "a8bb0479",
   "metadata": {},
   "source": [
    "First lockdown, the time starts at the event and ends four weeks after the event.\n",
    "\n",
    "For the schools opening, it starts one week before the event and end four weeks after the event.\n",
    "\n",
    "For the second lockdown, it starts one week before the event and ends four weeks after the event.\n",
    "\n",
    "The one week before is to establish the pre-event baseline, except for the first lockdown as there is a lack of data. The four week time period post-events is to allow time for incubation periods and time to get tested for Covid-19."
   ]
  },
  {
   "cell_type": "markdown",
   "id": "a91bb53f",
   "metadata": {},
   "source": [
    "## Two paragraph explanation "
   ]
  },
  {
   "cell_type": "markdown",
   "id": "a0a8e614",
   "metadata": {},
   "source": [
    "We performed a RDD analysis on data collected on Covid-19 cases in Quebec, Canada during 2020. The three significant events used in the analysis were the first lockdown in March, the schools reopening in August, and the second lockdown in December. All of the events caused a significant change in the number of recorded Covid-19 cases.\n",
    "\n",
    "\n",
    "The first lockdown showed a sharp significant (P<0.05) decrease in the number of cases two weeks after it started, followed by a significant decrease in cases over time (Date:Lockdown). The schools reopening causes a significant increase (P<0.05) in the number of cases over time. There was an immediate decreases in cases we can't explain. Finally, the second lockdown caused a significant decrease (P<0.05) in the number of Covid-19 cases and cases over time.\n",
    "\n"
   ]
  }
 ],
 "metadata": {
  "kernelspec": {
   "display_name": "Python 3 (ipykernel)",
   "language": "python",
   "name": "python3"
  },
  "language_info": {
   "codemirror_mode": {
    "name": "ipython",
    "version": 3
   },
   "file_extension": ".py",
   "mimetype": "text/x-python",
   "name": "python",
   "nbconvert_exporter": "python",
   "pygments_lexer": "ipython3",
   "version": "3.9.13"
  }
 },
 "nbformat": 4,
 "nbformat_minor": 5
}

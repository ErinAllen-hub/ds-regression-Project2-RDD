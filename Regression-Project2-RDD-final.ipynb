{
 "cells": [
  {
   "cell_type": "markdown",
   "id": "1ebc46f5",
   "metadata": {},
   "source": [
    "# Regression Project2 - RDD\n"
   ]
  },
  {
   "cell_type": "markdown",
   "id": "e2dab0b3",
   "metadata": {},
   "source": [
    "#### Data Source:\n",
    "    https://www.inspq.qc.ca/sites/default/files/covid/donnees/covid19-hist.csv"
   ]
  },
  {
   "cell_type": "markdown",
   "id": "17e4ed09",
   "metadata": {},
   "source": [
    "## RDD Analysis"
   ]
  },
  {
   "cell_type": "code",
   "execution_count": null,
   "id": "27d9a73a",
   "metadata": {},
   "outputs": [],
   "source": [
    "import os\n",
    "import matplotlib.pyplot as plt \n",
    "import numpy as np \n",
    "from statsmodels.formula.api import ols\n",
    "import pandas as pd\n",
    "from patsy import dmatrices\n",
    "import scipy.stats as sc\n",
    "import seaborn as sns \n",
    "import statsmodels.api as sm\n",
    "import scipy.stats\n",
    "import scipy.special\n",
    "\n",
    "sns.set()"
   ]
  },
  {
   "cell_type": "code",
   "execution_count": null,
   "id": "7777b058",
   "metadata": {},
   "outputs": [],
   "source": [
    "#    - COVID CASES -\n",
    "df_cov = pd.read_csv('data/graph_1-1_page_par_region.csv')\n",
    "df_cov\n",
    "\n",
    "df_cov.rename({\n",
    "    'Date de résultat du test':'Date',\n",
    "    'Cas confirmés':'Cases',\n",
    "}, axis=1, inplace=True)\n",
    "\n",
    "df_cov['Date'] = pd.to_datetime(df_cov['Date'])\n",
    "\n",
    "\n",
    "from datetime import datetime\n",
    "\n",
    "  # we'll use this for time calculations\n",
    "def fromdate(x): return datetime.timestamp(x)/60/60/24\n",
    "   \n",
    "    \n",
    "lst_formula = ['''Cases ~ \n",
    "        Date\n",
    "        + Lockdown\n",
    "        + Lockdown:Date\n",
    "    ''',\n",
    "              '''Cases ~ \n",
    "        Date \n",
    "        + Lockdown \n",
    "        + Date:Lockdown\n",
    "    ''',\n",
    "              '''Cases ~ \n",
    "        Date\n",
    "        + Lockdown\n",
    "        + Date:Lockdown\n",
    "    ''']\n",
    "\n",
    "models = [0, 0, 0]\n",
    "\n",
    "lst_events = ['Lockdown', 'School Opening', 'Dec Lockdown']\n",
    "\n",
    "dates = [\n",
    "    [\n",
    "        datetime.strptime('2020-03-05','%Y-%m-%d'),  # when we start fitting the data\n",
    "        datetime.strptime('2020-03-20','%Y-%m-%d'),  # lockdown\n",
    "        datetime.strptime('2020-04-17','%Y-%m-%d'),  # when we stop fitting the data\n",
    "    ],\n",
    "    [\n",
    "        datetime.strptime('2020-08-17','%Y-%m-%d'),\n",
    "        datetime.strptime('2020-08-31','%Y-%m-%d'),\n",
    "        datetime.strptime('2020-09-14','%Y-%m-%d'),\n",
    "    ],\n",
    "    [\n",
    "        datetime.strptime('2020-12-04','%Y-%m-%d'),\n",
    "        datetime.strptime('2020-12-25','%Y-%m-%d'),\n",
    "        datetime.strptime('2021-01-15','%Y-%m-%d'),\n",
    "    ],\n",
    "]\n",
    "\n",
    "# convert all dates to days\n",
    "dates = [\n",
    "    [fromdate(i) for i in x] for x in dates\n",
    "]\n",
    "\n",
    "# convert columns to days (days since 1970, we'll subtract from it later to place it near zero)\n",
    "df_cov['Date'] = df_cov['Date'].map(fromdate)\n",
    "\n",
    "offset_time = 14  # incubation time\n",
    "\n",
    "fig, (ax1, ax2, ax3) = plt.subplots(1, 3, figsize = (16,6), dpi = 90)\n",
    "axes=[ax1, ax2, ax3]\n",
    "\n",
    "for i in range(len(axes)):\n",
    "        \n",
    "    ax = axes[i]\n",
    "\n",
    "    lockdown = dates[i][1]\n",
    "    before = dates[i][0] - lockdown  # these are offsets\n",
    "    after = dates[i][2] - lockdown  # these are offsets\n",
    "\n",
    "    # --------------------------------------------\n",
    "\n",
    "    df_cov2 = df_cov.copy()  # model fitting\n",
    "\n",
    "    df_cov2['Date'] -= lockdown + offset_time  # 0 is not lockdown, 0 is lockdown + incubation time, etc\n",
    "    df_cov2 = df_cov2.loc[df_cov2['Date'] < after]  # remove before max date\n",
    "    df_cov2 = df_cov2.loc[df_cov2['Date'] > before]  # remove after min date\n",
    "\n",
    "    df_cov2['Lockdown'] = (df_cov2['Date'] > 0).astype(int)\n",
    "\n",
    "    # --------------------------------------------\n",
    "\n",
    "    df_cov3 = df_cov.copy()  # display\n",
    "\n",
    "    display_size = 6\n",
    "\n",
    "    df_cov3['Date'] -= lockdown + offset_time\n",
    "    df_cov3 = df_cov3.loc[df_cov3['Date'] < after*display_size]  # display_size times more data\n",
    "    df_cov3 = df_cov3.loc[df_cov3['Date'] > before*display_size]\n",
    "\n",
    "    # --------------------------------------------\n",
    "\n",
    "    real_lockdown=-offset_time  # we'll draw a line when the real lockdown happened\n",
    "    ax.plot([real_lockdown, real_lockdown], [0, 2000], c='#000', alpha=1.0, linewidth=0.5, label=lst_events[i])\n",
    "    ax.plot([0, 0], [0, 2000], c='#888', alpha=1.0, linewidth=0.5, label='Two Week')\n",
    "\n",
    "    # --------------------------------------------\n",
    "\n",
    "    # both scatter and plot\n",
    "    linewidth=0.5\n",
    "    ax.scatter(df_cov3['Date'], df_cov3['Cases'], c='orange', alpha=1, s=2.5, label='Cases')\n",
    "    ax.plot(df_cov3['Date'], df_cov3['Cases'], c='orange', alpha=1, linewidth=linewidth)\n",
    "\n",
    "    # --------------------------------------------\n",
    "\n",
    "    formula = lst_formula[i] \n",
    "\n",
    "    y, x = dmatrices(formula, df_cov2, return_type='dataframe')\n",
    "    model1 = sm.OLS(y, x).fit()\n",
    "    models[i] = model1\n",
    "    ax.plot(df_cov2['Date'], model1.predict(x), c='blue', alpha=1.0, linewidth=1.0, label='Predict')\n",
    "    ax.set_xlabel('Days')\n",
    "    ax.set_ylabel('Cases')\n",
    "    ax.tick_params(labelrotation=90)\n",
    "    n_weeks = 6\n",
    "    ax.set_xticks(np.linspace(-7*n_weeks,7*n_weeks,7))\n",
    "    ax.set_xticklabels([f'Week {int(x/7)}' for x in np.linspace(-7*n_weeks,7*n_weeks,7)])\n",
    "    ax.tick_params(labelrotation=90)\n",
    "    ax.legend(fancybox=True, framealpha=0.2)\n",
    "\n",
    "fig.suptitle('Effects of Events on Covid-19')\n",
    "plt.tight_layout()\n",
    "plt.show()"
   ]
  },
  {
   "cell_type": "markdown",
   "id": "acbc3368",
   "metadata": {},
   "source": [
    "## Model Summaries"
   ]
  },
  {
   "cell_type": "code",
   "execution_count": null,
   "id": "5dfc1927",
   "metadata": {
    "scrolled": false
   },
   "outputs": [],
   "source": [
    "models[0].summary()\n"
   ]
  },
  {
   "cell_type": "markdown",
   "id": "21eb68a4",
   "metadata": {},
   "source": [
    "#### All p-values are significant (P<0.05) except Lockdown, showing that there was not an immediate effect for the lockdown on the number of Covid-19 cases. \n",
    "\n",
    "#### A stronger impact of the lockdown on Covid-19 cases is seen over time through the significant p-value(P<0.000) for Lockdown:Date combined.\n"
   ]
  },
  {
   "cell_type": "code",
   "execution_count": null,
   "id": "585c9afb",
   "metadata": {},
   "outputs": [],
   "source": [
    "models[1].summary()"
   ]
  },
  {
   "cell_type": "markdown",
   "id": "b877873c",
   "metadata": {},
   "source": [
    "#### All p-values are significant (P<0.05).\n",
    "\n",
    "#### This demonstrates that there was an effect of schools reopening in August 2020 on the number of Covid-19 cases. \n"
   ]
  },
  {
   "cell_type": "code",
   "execution_count": null,
   "id": "b4306395",
   "metadata": {},
   "outputs": [],
   "source": [
    "models[2].summary()"
   ]
  },
  {
   "cell_type": "markdown",
   "id": "9e830804",
   "metadata": {},
   "source": [
    "#### All p-values are significant (P<0.05).\n",
    "\n",
    "#### This demonstrates that the second lockdown in December 2020 had a significant impact on the number of Covid-19 cases. \n"
   ]
  },
  {
   "cell_type": "markdown",
   "id": "78c4e277",
   "metadata": {},
   "source": [
    "## Justifications"
   ]
  },
  {
   "cell_type": "markdown",
   "id": "d9bf174d",
   "metadata": {},
   "source": [
    "Time spans three weeks pre- and post-event, except the start date, as data collection only commenced March 5th 2020. This is to allow time for incubation periods and testing time for Covid-19."
   ]
  },
  {
   "cell_type": "markdown",
   "id": "a74df1ed",
   "metadata": {},
   "source": [
    "No polynomial features added to the RDD model as they did not allow for accurate interpretation of the data as seen by the p-values here. "
   ]
  },
  {
   "cell_type": "markdown",
   "id": "96b712b3",
   "metadata": {},
   "source": [
    "Extra???"
   ]
  },
  {
   "cell_type": "markdown",
   "id": "a91bb53f",
   "metadata": {},
   "source": [
    "## Two paragraph explanation "
   ]
  },
  {
   "cell_type": "markdown",
   "id": "a0a8e614",
   "metadata": {},
   "source": [
    "We performed a RDD analysis on data collected on Covid-19 cases in Quebec, Canada during 2020. The three significant events used in the analysis were the first lockdown in March, the schools reopening in August, and the second lockdown in December. All of the events cause a significant change in the number of recorded Covid-19 cases.\n",
    "\n",
    "The first lockdown showed a delayed decrease in the number of cases, as immediately after the lockdown there was no significant change, but with offset time to account for people getting sick and then tested, there was significance (P<0.05) decrease. The schools reopening causes a significant increase (P<0.05) in the number of cases. Finally, the second lockdown caused a significant decrease (P<0.05) in the number of Covid-19 cases.\n",
    "\n"
   ]
  },
  {
   "cell_type": "code",
   "execution_count": null,
   "id": "d774e2a7",
   "metadata": {},
   "outputs": [],
   "source": []
  }
 ],
 "metadata": {
  "kernelspec": {
   "display_name": "Python 3 (ipykernel)",
   "language": "python",
   "name": "python3"
  },
  "language_info": {
   "codemirror_mode": {
    "name": "ipython",
    "version": 3
   },
   "file_extension": ".py",
   "mimetype": "text/x-python",
   "name": "python",
   "nbconvert_exporter": "python",
   "pygments_lexer": "ipython3",
   "version": "3.9.13"
  }
 },
 "nbformat": 4,
 "nbformat_minor": 5
}

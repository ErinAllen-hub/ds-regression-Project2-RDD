{
 "cells": [
  {
   "cell_type": "markdown",
   "id": "1ebc46f5",
   "metadata": {},
   "source": [
    "# Regression Project2 - RDD\n",
    "\n",
    "\n",
    "### Requirements: \n",
    "\n",
    "#### A - find data on * at least * one COVID measure for y:\n",
    "\n",
    "either:\n",
    "\n",
    "    1 - COVID cases\n",
    "    2 - hospitalizations\n",
    "    3 - deaths\n",
    "#### B - Use RDD to estimate the effect of the following events in Quebec:\n",
    "\n",
    "- D1. 20/3/2020 - lockdown\n",
    "\n",
    "- D2. 31/8/2020 - The reopening of schools \n",
    "\n",
    "- D3. 25/12/2020 - lockdown\n",
    "\n",
    "#### C - provide the following for each:\n",
    "\n",
    "- c.1) A RDD plot similar to the ones shown above\n",
    "\n",
    "- c.2) An interpretation of the p-value on the effect of the measure taken (the cutoff parameter)\n",
    "\n",
    "- c.3) A justification on the design of your regression:\n",
    "\n",
    "       The amount of time included on both sides of the cutoff (longer is not necessarily better)\n",
    "\n",
    "       The polynomial degree (higher is not always better)\n",
    "\n",
    "       Other regression design considerations\n",
    "\n",
    "- c.4) A 2 paragraph explanation of your findings for that event."
   ]
  },
  {
   "cell_type": "markdown",
   "id": "e2dab0b3",
   "metadata": {},
   "source": [
    "#### Data Sources:\n",
    "    https://www.donneesquebec.ca/recherche/dataset/covid-19-portrait-quotidien-des-cas-confirmes\n",
    "    https://www.inspq.qc.ca/covid-19/donnees\n",
    "\n",
    "    https://www.inspq.qc.ca/sites/default/files/covid/donnees/covid19-hist.csv\n",
    "    the columns explained  https://github.com/SimonCoulombe/covidtwitterbot\n",
    "    \n",
    "    https://ourworldindata.org/explorers/coronavirus-data-explorer?zoomToSelection=true&time=2020-03-01..latest&facet=none&pickerSort=asc&pickerMetric=location&Metric=Hospital+patients&Interval=7-day+rolling+average&Relative+to+Population=true&Color+by+test+positivity=false&country=~CAN\n",
    "    https://health-infobase.canada.ca/covid-19/#a3\n",
    "    https://health-infobase.canada.ca/src/data/covidLive/covid19-download.csv"
   ]
  },
  {
   "cell_type": "code",
   "execution_count": null,
   "id": "27d9a73a",
   "metadata": {},
   "outputs": [],
   "source": [
    "import os\n",
    "import matplotlib.pyplot as plt \n",
    "import numpy as np \n",
    "from statsmodels.formula.api import ols\n",
    "import pandas as pd\n",
    "from patsy import dmatrices\n",
    "import scipy.stats as sc\n",
    "from sklearn.preprocessing import PolynomialFeatures\n",
    "from sklearn.metrics import r2_score\n",
    "import seaborn as sns \n",
    "import statsmodels.api as sm\n",
    "\n",
    "from sklearn.linear_model import LinearRegression\n",
    "from sklearn.linear_model import LogisticRegression\n",
    "from sklearn.model_selection import train_test_split\n",
    "from sklearn import linear_model\n",
    "from sklearn import metrics\n",
    "from sklearn.pipeline import make_pipeline\n",
    "from sklearn.metrics import r2_score\n",
    "from sklearn.base import BaseEstimator, TransformerMixin\n",
    "from sklearn.metrics import classification_report\n",
    "from sklearn.metrics import confusion_matrix\n",
    "from sklearn.linear_model import Ridge\n",
    "\n",
    "import scipy.stats\n",
    "import scipy.special\n",
    "\n",
    "from sklearn.model_selection import train_test_split\n",
    "\n",
    "sns.set()"
   ]
  },
  {
   "cell_type": "markdown",
   "id": "69ba4c76",
   "metadata": {},
   "source": [
    "####  DATAFRAMES"
   ]
  },
  {
   "cell_type": "code",
   "execution_count": null,
   "id": "7777b058",
   "metadata": {},
   "outputs": [],
   "source": [
    "# os.getcwd()\n",
    "\n",
    "#    - COVID CASES -\n",
    "df_cov = pd.read_csv('data/graph_1-1_page_par_region.csv')\n",
    "df_cov\n",
    "\n",
    "df_cov.rename({\n",
    "    'Date de résultat du test':'Date',\n",
    "    'Cas confirmés':'Cases',\n",
    "}, axis=1, inplace=True)\n",
    "\n",
    "df_cov['Date'] = pd.to_datetime(df_cov['Date'])\n",
    "\n",
    "\n",
    "from datetime import datetime\n",
    "\n",
    "  # we'll use this for time calculations\n",
    "def fromdate(x): return datetime.timestamp(x)/60/60/24\n",
    "   \n",
    "    \n",
    "lst_formula = ['''Cases ~ \n",
    "        Date\n",
    "        + Lockdown\n",
    "        + Lockdown:Date\n",
    "    ''',\n",
    "              '''Cases ~ \n",
    "        Date \n",
    "        + Lockdown \n",
    "        + Date:Lockdown\n",
    "    ''',\n",
    "              '''Cases ~ \n",
    "        Date\n",
    "        + Lockdown\n",
    "        + Date:Lockdown\n",
    "    ''']\n",
    "\n",
    "models = [0, 0, 0]\n",
    "\n",
    "lst_events = ['Lockdown', 'School Opening', 'Dec Lockdown']\n",
    "\n",
    "dates = [\n",
    "    [\n",
    "        datetime.strptime('2020-03-05','%Y-%m-%d'),  # when we start fitting the data\n",
    "        datetime.strptime('2020-03-20','%Y-%m-%d'),  # lockdown\n",
    "        datetime.strptime('2020-04-17','%Y-%m-%d'),  # when we stop fitting the data\n",
    "    ],\n",
    "    [\n",
    "        datetime.strptime('2020-08-17','%Y-%m-%d'),\n",
    "        datetime.strptime('2020-08-31','%Y-%m-%d'),\n",
    "        datetime.strptime('2020-09-14','%Y-%m-%d'),\n",
    "    ],\n",
    "    [\n",
    "        datetime.strptime('2020-12-04','%Y-%m-%d'),\n",
    "        datetime.strptime('2020-12-25','%Y-%m-%d'),\n",
    "        datetime.strptime('2021-01-15','%Y-%m-%d'),\n",
    "    ],\n",
    "]\n",
    "\n",
    "# convert all dates to days\n",
    "dates = [\n",
    "    [fromdate(i) for i in x] for x in dates\n",
    "]\n",
    "\n",
    "# convert columns to days (days since 1970, we'll subtract from it later to place it near zero)\n",
    "df_cov['Date'] = df_cov['Date'].map(fromdate)\n",
    "\n",
    "offset_time = 14  # incubation time\n",
    "\n",
    "fig, (ax1, ax2, ax3) = plt.subplots(1, 3, figsize = (16,6), dpi = 90)\n",
    "axes=[ax1, ax2, ax3]\n",
    "\n",
    "for i in range(len(axes)):\n",
    "        \n",
    "    ax = axes[i]\n",
    "\n",
    "    lockdown = dates[i][1]\n",
    "    before = dates[i][0] - lockdown  # these are offsets\n",
    "    after = dates[i][2] - lockdown  # these are offsets\n",
    "\n",
    "    # --------------------------------------------\n",
    "\n",
    "    df_cov2 = df_cov.copy()  # model fitting\n",
    "\n",
    "    df_cov2['Date'] -= lockdown + offset_time  # 0 is not lockdown, 0 is lockdown + incubation time, etc\n",
    "    df_cov2 = df_cov2.loc[df_cov2['Date'] < after]  # remove before max date\n",
    "    df_cov2 = df_cov2.loc[df_cov2['Date'] > before]  # remove after min date\n",
    "\n",
    "    df_cov2['Lockdown'] = (df_cov2['Date'] > 0).astype(int)\n",
    "\n",
    "    # --------------------------------------------\n",
    "\n",
    "    df_cov3 = df_cov.copy()  # display\n",
    "\n",
    "    display_size = 6\n",
    "\n",
    "    df_cov3['Date'] -= lockdown + offset_time\n",
    "    df_cov3 = df_cov3.loc[df_cov3['Date'] < after*display_size]  # display_size times more data\n",
    "    df_cov3 = df_cov3.loc[df_cov3['Date'] > before*display_size]\n",
    "\n",
    "    # --------------------------------------------\n",
    "\n",
    "    real_lockdown=-offset_time  # we'll draw a line when the real lockdown happened\n",
    "    ax.plot([real_lockdown, real_lockdown], [0, 2000], c='#000', alpha=1.0, linewidth=0.5, label=lst_events[i])\n",
    "    ax.plot([0, 0], [0, 2000], c='#888', alpha=1.0, linewidth=0.5, label='Two Week')\n",
    "\n",
    "    # --------------------------------------------\n",
    "\n",
    "    # both scatter and plot\n",
    "    linewidth=0.5\n",
    "    ax.scatter(df_cov3['Date'], df_cov3['Cases'], c='orange', alpha=1, s=2.5, label='Cases')\n",
    "    ax.plot(df_cov3['Date'], df_cov3['Cases'], c='orange', alpha=1, linewidth=linewidth)\n",
    "\n",
    "    # --------------------------------------------\n",
    "\n",
    "    formula = lst_formula[i] \n",
    "\n",
    "    y, x = dmatrices(formula, df_cov2, return_type='dataframe')\n",
    "    model1 = sm.OLS(y, x).fit()\n",
    "    models[i] = model1\n",
    "    ax.plot(df_cov2['Date'], model1.predict(x), c='blue', alpha=1.0, linewidth=1.0, label='Predict')\n",
    "    ax.set_xlabel('Days')\n",
    "    ax.set_ylabel('Cases')\n",
    "    ax.tick_params(labelrotation=90)\n",
    "    n_weeks = 6\n",
    "    ax.set_xticks(np.linspace(-7*n_weeks,7*n_weeks,7))\n",
    "    ax.set_xticklabels([f'Week {int(x/7)}' for x in np.linspace(-7*n_weeks,7*n_weeks,7)])\n",
    "    ax.tick_params(labelrotation=90)\n",
    "    ax.legend(fancybox=True, framealpha=0.2)\n",
    "\n",
    "fig.suptitle('Effects of Events on Covid-19')\n",
    "plt.tight_layout()\n",
    "plt.show()"
   ]
  },
  {
   "cell_type": "code",
   "execution_count": null,
   "id": "5dfc1927",
   "metadata": {},
   "outputs": [],
   "source": [
    "# df_cov['Date']-ts.dates[0]\n",
    "# df_cov\n",
    "# df_cov = pd.read_csv('data/graph_1-1_page_par_region.csv')\n",
    "# df_cov.loc[df_cov['Cas confirmés']>0]\n",
    "# df_cov2\n",
    "\n",
    "models[2].summary()\n"
   ]
  },
  {
   "cell_type": "code",
   "execution_count": null,
   "id": "d7c5df15",
   "metadata": {},
   "outputs": [],
   "source": [
    "# model.summary()\n",
    "# ts.days"
   ]
  },
  {
   "cell_type": "code",
   "execution_count": null,
   "id": "8af55e13",
   "metadata": {},
   "outputs": [],
   "source": [
    "# y,x=dmatrices('Cases ~ Date',df_cov)\n",
    "\n",
    "# model=sm.OLS(y,x).fit()\n",
    "# model.summary()\n"
   ]
  },
  {
   "cell_type": "code",
   "execution_count": null,
   "id": "d0280ced",
   "metadata": {},
   "outputs": [],
   "source": []
  },
  {
   "cell_type": "code",
   "execution_count": null,
   "id": "63a25415",
   "metadata": {},
   "outputs": [],
   "source": [
    "#df.columns\n"
   ]
  },
  {
   "cell_type": "markdown",
   "id": "f24e77e9",
   "metadata": {},
   "source": [
    "## 1- COVID CASES"
   ]
  },
  {
   "cell_type": "markdown",
   "id": "f06729b4",
   "metadata": {},
   "source": [
    "#### A- Dependances and Response definition"
   ]
  },
  {
   "cell_type": "code",
   "execution_count": null,
   "id": "84f4d2d4",
   "metadata": {},
   "outputs": [],
   "source": [
    "# if a common df is used, use: df.copy()\n"
   ]
  },
  {
   "cell_type": "code",
   "execution_count": null,
   "id": "cef2a128",
   "metadata": {},
   "outputs": [],
   "source": [
    "x_cov =[['','',]]\n",
    "y_cov =[['']]"
   ]
  },
  {
   "cell_type": "markdown",
   "id": "0ecf2dcb",
   "metadata": {},
   "source": [
    "#### B- RDD for D1. 20/3/2020 | D2. 31/8/2020 | D3. 25/12/2020 "
   ]
  },
  {
   "cell_type": "code",
   "execution_count": null,
   "id": "c6f27a86",
   "metadata": {},
   "outputs": [],
   "source": []
  },
  {
   "cell_type": "markdown",
   "id": "385e7091",
   "metadata": {},
   "source": [
    "#### C.1) PLOT"
   ]
  },
  {
   "cell_type": "code",
   "execution_count": null,
   "id": "18bc7ac8",
   "metadata": {},
   "outputs": [],
   "source": []
  },
  {
   "cell_type": "markdown",
   "id": "07a2df91",
   "metadata": {},
   "source": [
    "#### C.2) Interpretation of the p-value on the effect of the measure taken"
   ]
  },
  {
   "cell_type": "code",
   "execution_count": null,
   "id": "6f9f6399",
   "metadata": {},
   "outputs": [],
   "source": []
  },
  {
   "cell_type": "markdown",
   "id": "5bd0ffc2",
   "metadata": {},
   "source": [
    "#### C.3) Justification on the design of your regression"
   ]
  },
  {
   "cell_type": "code",
   "execution_count": null,
   "id": "41a93e01",
   "metadata": {},
   "outputs": [],
   "source": []
  },
  {
   "cell_type": "markdown",
   "id": "de4f1416",
   "metadata": {},
   "source": [
    "#### C.4)  paragraph explanation of your findings for that event."
   ]
  },
  {
   "cell_type": "code",
   "execution_count": null,
   "id": "aa8da997",
   "metadata": {},
   "outputs": [],
   "source": []
  },
  {
   "cell_type": "markdown",
   "id": "0b8024d0",
   "metadata": {},
   "source": [
    "### 2- HOSPITALIZATIONS"
   ]
  },
  {
   "cell_type": "markdown",
   "id": "42f44fc1",
   "metadata": {},
   "source": [
    "#### A- Dependances and Response definition"
   ]
  },
  {
   "cell_type": "code",
   "execution_count": null,
   "id": "13f4eb94",
   "metadata": {},
   "outputs": [],
   "source": [
    "# if a common df is used, use: df.copy()\n"
   ]
  },
  {
   "cell_type": "markdown",
   "id": "948969bb",
   "metadata": {},
   "source": [
    "#### B- RDD for D1. 20/3/2020 | D2. 31/8/2020 | D3. 25/12/2020"
   ]
  },
  {
   "cell_type": "code",
   "execution_count": null,
   "id": "f19f1117",
   "metadata": {},
   "outputs": [],
   "source": []
  },
  {
   "cell_type": "markdown",
   "id": "1cd3496a",
   "metadata": {},
   "source": [
    "#### C.1) PLOT"
   ]
  },
  {
   "cell_type": "code",
   "execution_count": null,
   "id": "9d50bf53",
   "metadata": {},
   "outputs": [],
   "source": []
  },
  {
   "cell_type": "markdown",
   "id": "b923003d",
   "metadata": {},
   "source": [
    "#### C.2) Interpretation of the p-value on the effect of the measure taken"
   ]
  },
  {
   "cell_type": "code",
   "execution_count": null,
   "id": "a45daaa5",
   "metadata": {},
   "outputs": [],
   "source": []
  },
  {
   "cell_type": "markdown",
   "id": "6f63ce1a",
   "metadata": {},
   "source": [
    "#### C.3) Justification on the design of your regression"
   ]
  },
  {
   "cell_type": "code",
   "execution_count": null,
   "id": "c9622da5",
   "metadata": {},
   "outputs": [],
   "source": []
  },
  {
   "cell_type": "markdown",
   "id": "953d6276",
   "metadata": {},
   "source": [
    "#### C.4) paragraph explanation of your findings for that event."
   ]
  },
  {
   "cell_type": "code",
   "execution_count": null,
   "id": "6e20f290",
   "metadata": {},
   "outputs": [],
   "source": []
  },
  {
   "cell_type": "markdown",
   "id": "d3a04105",
   "metadata": {},
   "source": [
    "### 3- DEATHS"
   ]
  },
  {
   "cell_type": "markdown",
   "id": "e0d3fbd9",
   "metadata": {},
   "source": [
    "#### A- Dependances and Response definition"
   ]
  },
  {
   "cell_type": "code",
   "execution_count": null,
   "id": "a6573871",
   "metadata": {},
   "outputs": [],
   "source": [
    "# if a common df is used, use: df.copy()\n"
   ]
  },
  {
   "cell_type": "markdown",
   "id": "e9c54409",
   "metadata": {},
   "source": [
    "#### B- RDD for D1. 20/3/2020 | D2. 31/8/2020 | D3. 25/12/2020"
   ]
  },
  {
   "cell_type": "code",
   "execution_count": null,
   "id": "25c4fd62",
   "metadata": {},
   "outputs": [],
   "source": []
  },
  {
   "cell_type": "markdown",
   "id": "c062bdb4",
   "metadata": {},
   "source": [
    "#### C.1) PLOT"
   ]
  },
  {
   "cell_type": "code",
   "execution_count": null,
   "id": "0c79eb6c",
   "metadata": {},
   "outputs": [],
   "source": []
  },
  {
   "cell_type": "markdown",
   "id": "8b94c5e0",
   "metadata": {},
   "source": [
    "#### C.2) Interpretation of the p-value on the effect of the measure taken"
   ]
  },
  {
   "cell_type": "code",
   "execution_count": null,
   "id": "71d0b875",
   "metadata": {},
   "outputs": [],
   "source": []
  },
  {
   "cell_type": "markdown",
   "id": "3477f78a",
   "metadata": {},
   "source": [
    "#### C.3) Justification on the design of your regression"
   ]
  },
  {
   "cell_type": "code",
   "execution_count": null,
   "id": "41d76b3c",
   "metadata": {},
   "outputs": [],
   "source": []
  },
  {
   "cell_type": "markdown",
   "id": "b379930e",
   "metadata": {},
   "source": [
    "#### C.4)  paragraph explanation of your findings for that event."
   ]
  },
  {
   "cell_type": "code",
   "execution_count": null,
   "id": "68d3a89b",
   "metadata": {},
   "outputs": [],
   "source": []
  },
  {
   "cell_type": "code",
   "execution_count": null,
   "id": "b5025542",
   "metadata": {},
   "outputs": [],
   "source": []
  },
  {
   "cell_type": "code",
   "execution_count": null,
   "id": "6ec0724f",
   "metadata": {},
   "outputs": [],
   "source": []
  },
  {
   "cell_type": "markdown",
   "id": "6aaa3c27",
   "metadata": {},
   "source": [
    "# - CONCLUSION -\n",
    "### A 2 paragraph explanation of your findings for that event."
   ]
  },
  {
   "cell_type": "code",
   "execution_count": null,
   "id": "1ba97019",
   "metadata": {},
   "outputs": [],
   "source": []
  }
 ],
 "metadata": {
  "kernelspec": {
   "display_name": "Python 3 (ipykernel)",
   "language": "python",
   "name": "python3"
  },
  "language_info": {
   "codemirror_mode": {
    "name": "ipython",
    "version": 3
   },
   "file_extension": ".py",
   "mimetype": "text/x-python",
   "name": "python",
   "nbconvert_exporter": "python",
   "pygments_lexer": "ipython3",
   "version": "3.9.13"
  }
 },
 "nbformat": 4,
 "nbformat_minor": 5
}

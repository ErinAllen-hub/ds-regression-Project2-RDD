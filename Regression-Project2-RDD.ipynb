{
 "cells": [
  {
   "cell_type": "markdown",
   "id": "1ebc46f5",
   "metadata": {},
   "source": [
    "# Regression Project2 - RDD\n",
    "\n",
    "\n",
    "### Requirements: \n",
    "\n",
    "#### A - find data on * at least * one COVID measure for y:\n",
    "\n",
    "either:\n",
    "\n",
    "    1 - COVID cases\n",
    "    2 - hospitalizations\n",
    "    3 - deaths\n",
    "#### B - Use RDD to estimate the effect of the following events in Quebec:\n",
    "\n",
    "- D1. 20/3/2020 - lockdown\n",
    "\n",
    "- D2. 31/8/2020 - The reopening of schools \n",
    "\n",
    "- D3. 25/12/2020 - lockdown\n",
    "\n",
    "#### C - provide the following for each:\n",
    "\n",
    "- c.1) A RDD plot similar to the ones shown above\n",
    "\n",
    "- c.2) An interpretation of the p-value on the effect of the measure taken (the cutoff parameter)\n",
    "\n",
    "- c.3) A justification on the design of your regression:\n",
    "\n",
    "       The amount of time included on both sides of the cutoff (longer is not necessarily better)\n",
    "\n",
    "       The polynomial degree (higher is not always better)\n",
    "\n",
    "       Other regression design considerations\n",
    "\n",
    "- c.4) A 2 paragraph explanation of your findings for that event."
   ]
  },
  {
   "cell_type": "markdown",
   "id": "e2dab0b3",
   "metadata": {},
   "source": [
    "#### Data Sources:\n",
    "    https://www.donneesquebec.ca/recherche/dataset/covid-19-portrait-quotidien-des-cas-confirmes\n",
    "    https://www.inspq.qc.ca/covid-19/donnees\n",
    "\n",
    "    https://www.inspq.qc.ca/sites/default/files/covid/donnees/covid19-hist.csv\n",
    "    the columns explained  https://github.com/SimonCoulombe/covidtwitterbot\n",
    "    \n",
    "    https://ourworldindata.org/explorers/coronavirus-data-explorer?zoomToSelection=true&time=2020-03-01..latest&facet=none&pickerSort=asc&pickerMetric=location&Metric=Hospital+patients&Interval=7-day+rolling+average&Relative+to+Population=true&Color+by+test+positivity=false&country=~CAN\n",
    "    https://health-infobase.canada.ca/covid-19/#a3\n",
    "    https://health-infobase.canada.ca/src/data/covidLive/covid19-download.csv"
   ]
  },
  {
   "cell_type": "code",
   "execution_count": 1,
   "id": "27d9a73a",
   "metadata": {},
   "outputs": [],
   "source": [
    "import os\n",
    "import matplotlib.pyplot as plt \n",
    "import numpy as np \n",
    "from statsmodels.formula.api import ols\n",
    "import pandas as pd\n",
    "from patsy import dmatrices\n",
    "import scipy.stats as sc\n",
    "from sklearn.preprocessing import PolynomialFeatures\n",
    "from sklearn.metrics import r2_score\n",
    "import seaborn as sns \n",
    "import statsmodels.api as sm\n",
    "\n",
    "from sklearn.linear_model import LinearRegression\n",
    "from sklearn.linear_model import LogisticRegression\n",
    "from sklearn.model_selection import train_test_split\n",
    "from sklearn import linear_model\n",
    "from sklearn import metrics\n",
    "from sklearn.pipeline import make_pipeline\n",
    "from sklearn.metrics import r2_score\n",
    "from sklearn.base import BaseEstimator, TransformerMixin\n",
    "from sklearn.metrics import classification_report\n",
    "from sklearn.metrics import confusion_matrix\n",
    "from sklearn.linear_model import Ridge\n",
    "\n",
    "import scipy.stats\n",
    "import scipy.special\n",
    "\n",
    "from sklearn.model_selection import train_test_split\n",
    "\n",
    "sns.set()"
   ]
  },
  {
   "cell_type": "markdown",
   "id": "69ba4c76",
   "metadata": {},
   "source": [
    "####  DATAFRAMES"
   ]
  },
  {
   "cell_type": "code",
   "execution_count": 28,
   "id": "d0280ced",
   "metadata": {},
   "outputs": [],
   "source": [
    "# os.getcwd()\n",
    "\n",
    "#    - COVID CASES -\n",
    "df_cov = pd.read_csv('data/graph_1-1_page_par_region.csv')\n",
    "df_cov\n",
    "\n",
    "#    - HOSPITALIZATIONS -\n",
    "df_hosp = pd.read_csv('data/graph_3-1_page_par_region.csv')\n",
    "#df_hosp\n",
    "\n",
    "#    - DEATH -\n",
    "df_death = pd.read_csv('https://msss.gouv.qc.ca/professionnels/statistiques/documents/covid19/COVID19_Qc_RapportINSPQ_HistoVigie.csv')\n",
    "#df_death = pd.read_csv('https://msss.gouv.qc.ca/professionnels/statistiques/documents/covid19/COVID19_Qc_RapportINSPQ_VigieCategories.csv')\n",
    "#df_death = pd.read_csv('https://health-infobase.canada.ca/src/data/covidLive/covid19-download.csv')\n",
    "#df_death\n"
   ]
  },
  {
   "cell_type": "code",
   "execution_count": 29,
   "id": "63a25415",
   "metadata": {},
   "outputs": [],
   "source": [
    "#df.columns\n"
   ]
  },
  {
   "cell_type": "markdown",
   "id": "f24e77e9",
   "metadata": {},
   "source": [
    "## 1- COVID CASES"
   ]
  },
  {
   "cell_type": "markdown",
   "id": "f06729b4",
   "metadata": {},
   "source": [
    "#### A- Dependances and Response definition"
   ]
  },
  {
   "cell_type": "code",
   "execution_count": null,
   "id": "84f4d2d4",
   "metadata": {},
   "outputs": [],
   "source": [
    "# if a common df is used, use: df.copy()\n"
   ]
  },
  {
   "cell_type": "code",
   "execution_count": 20,
   "id": "cef2a128",
   "metadata": {},
   "outputs": [],
   "source": [
    "x_cov =[['','',]]\n",
    "y_cov =[['']]"
   ]
  },
  {
   "cell_type": "markdown",
   "id": "0ecf2dcb",
   "metadata": {},
   "source": [
    "#### B- RDD for D1. 20/3/2020 | D2. 31/8/2020 | D3. 25/12/2020 "
   ]
  },
  {
   "cell_type": "code",
   "execution_count": null,
   "id": "c6f27a86",
   "metadata": {},
   "outputs": [],
   "source": []
  },
  {
   "cell_type": "markdown",
   "id": "385e7091",
   "metadata": {},
   "source": [
    "#### C.1) PLOT"
   ]
  },
  {
   "cell_type": "code",
   "execution_count": null,
   "id": "18bc7ac8",
   "metadata": {},
   "outputs": [],
   "source": []
  },
  {
   "cell_type": "markdown",
   "id": "07a2df91",
   "metadata": {},
   "source": [
    "#### C.2) Interpretation of the p-value on the effect of the measure taken"
   ]
  },
  {
   "cell_type": "code",
   "execution_count": null,
   "id": "6f9f6399",
   "metadata": {},
   "outputs": [],
   "source": []
  },
  {
   "cell_type": "markdown",
   "id": "5bd0ffc2",
   "metadata": {},
   "source": [
    "#### C.3) Justification on the design of your regression"
   ]
  },
  {
   "cell_type": "code",
   "execution_count": null,
   "id": "41a93e01",
   "metadata": {},
   "outputs": [],
   "source": []
  },
  {
   "cell_type": "markdown",
   "id": "de4f1416",
   "metadata": {},
   "source": [
    "#### C.4)  paragraph explanation of your findings for that event."
   ]
  },
  {
   "cell_type": "code",
   "execution_count": null,
   "id": "aa8da997",
   "metadata": {},
   "outputs": [],
   "source": []
  },
  {
   "cell_type": "markdown",
   "id": "0b8024d0",
   "metadata": {},
   "source": [
    "### 2- HOSPITALIZATIONS"
   ]
  },
  {
   "cell_type": "markdown",
   "id": "42f44fc1",
   "metadata": {},
   "source": [
    "#### A- Dependances and Response definition"
   ]
  },
  {
   "cell_type": "code",
   "execution_count": null,
   "id": "13f4eb94",
   "metadata": {},
   "outputs": [],
   "source": [
    "# if a common df is used, use: df.copy()\n"
   ]
  },
  {
   "cell_type": "markdown",
   "id": "948969bb",
   "metadata": {},
   "source": [
    "#### B- RDD for D1. 20/3/2020 | D2. 31/8/2020 | D3. 25/12/2020"
   ]
  },
  {
   "cell_type": "code",
   "execution_count": null,
   "id": "f19f1117",
   "metadata": {},
   "outputs": [],
   "source": []
  },
  {
   "cell_type": "markdown",
   "id": "1cd3496a",
   "metadata": {},
   "source": [
    "#### C.1) PLOT"
   ]
  },
  {
   "cell_type": "code",
   "execution_count": null,
   "id": "9d50bf53",
   "metadata": {},
   "outputs": [],
   "source": []
  },
  {
   "cell_type": "markdown",
   "id": "b923003d",
   "metadata": {},
   "source": [
    "#### C.2) Interpretation of the p-value on the effect of the measure taken"
   ]
  },
  {
   "cell_type": "code",
   "execution_count": null,
   "id": "a45daaa5",
   "metadata": {},
   "outputs": [],
   "source": []
  },
  {
   "cell_type": "markdown",
   "id": "6f63ce1a",
   "metadata": {},
   "source": [
    "#### C.3) Justification on the design of your regression"
   ]
  },
  {
   "cell_type": "code",
   "execution_count": null,
   "id": "c9622da5",
   "metadata": {},
   "outputs": [],
   "source": []
  },
  {
   "cell_type": "markdown",
   "id": "953d6276",
   "metadata": {},
   "source": [
    "#### C.4) paragraph explanation of your findings for that event."
   ]
  },
  {
   "cell_type": "code",
   "execution_count": null,
   "id": "6e20f290",
   "metadata": {},
   "outputs": [],
   "source": []
  },
  {
   "cell_type": "markdown",
   "id": "d3a04105",
   "metadata": {},
   "source": [
    "### 3- DEATHS"
   ]
  },
  {
   "cell_type": "markdown",
   "id": "e0d3fbd9",
   "metadata": {},
   "source": [
    "#### A- Dependances and Response definition"
   ]
  },
  {
   "cell_type": "code",
   "execution_count": null,
   "id": "a6573871",
   "metadata": {},
   "outputs": [],
   "source": [
    "# if a common df is used, use: df.copy()\n"
   ]
  },
  {
   "cell_type": "markdown",
   "id": "e9c54409",
   "metadata": {},
   "source": [
    "#### B- RDD for D1. 20/3/2020 | D2. 31/8/2020 | D3. 25/12/2020"
   ]
  },
  {
   "cell_type": "code",
   "execution_count": null,
   "id": "25c4fd62",
   "metadata": {},
   "outputs": [],
   "source": []
  },
  {
   "cell_type": "markdown",
   "id": "c062bdb4",
   "metadata": {},
   "source": [
    "#### C.1) PLOT"
   ]
  },
  {
   "cell_type": "code",
   "execution_count": null,
   "id": "0c79eb6c",
   "metadata": {},
   "outputs": [],
   "source": []
  },
  {
   "cell_type": "markdown",
   "id": "8b94c5e0",
   "metadata": {},
   "source": [
    "#### C.2) Interpretation of the p-value on the effect of the measure taken"
   ]
  },
  {
   "cell_type": "code",
   "execution_count": null,
   "id": "71d0b875",
   "metadata": {},
   "outputs": [],
   "source": []
  },
  {
   "cell_type": "markdown",
   "id": "3477f78a",
   "metadata": {},
   "source": [
    "#### C.3) Justification on the design of your regression"
   ]
  },
  {
   "cell_type": "code",
   "execution_count": null,
   "id": "41d76b3c",
   "metadata": {},
   "outputs": [],
   "source": []
  },
  {
   "cell_type": "markdown",
   "id": "b379930e",
   "metadata": {},
   "source": [
    "#### C.4)  paragraph explanation of your findings for that event."
   ]
  },
  {
   "cell_type": "code",
   "execution_count": null,
   "id": "68d3a89b",
   "metadata": {},
   "outputs": [],
   "source": []
  },
  {
   "cell_type": "code",
   "execution_count": null,
   "id": "b5025542",
   "metadata": {},
   "outputs": [],
   "source": []
  },
  {
   "cell_type": "code",
   "execution_count": null,
   "id": "6ec0724f",
   "metadata": {},
   "outputs": [],
   "source": []
  },
  {
   "cell_type": "markdown",
   "id": "6aaa3c27",
   "metadata": {},
   "source": [
    "# - CONCLUSION -\n",
    "### A 2 paragraph explanation of your findings for that event."
   ]
  },
  {
   "cell_type": "code",
   "execution_count": null,
   "id": "1ba97019",
   "metadata": {},
   "outputs": [],
   "source": []
  }
 ],
 "metadata": {
  "kernelspec": {
   "display_name": "Python 3 (ipykernel)",
   "language": "python",
   "name": "python3"
  },
  "language_info": {
   "codemirror_mode": {
    "name": "ipython",
    "version": 3
   },
   "file_extension": ".py",
   "mimetype": "text/x-python",
   "name": "python",
   "nbconvert_exporter": "python",
   "pygments_lexer": "ipython3",
   "version": "3.9.13"
  }
 },
 "nbformat": 4,
 "nbformat_minor": 5
}

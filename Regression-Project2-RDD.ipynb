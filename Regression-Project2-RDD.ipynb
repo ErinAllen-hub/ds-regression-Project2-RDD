{
 "cells": [
  {
   "cell_type": "markdown",
   "id": "1ebc46f5",
   "metadata": {},
   "source": [
    "# Regression Project2 - RDD\n",
    "\n",
    "\n",
    "### Requirements: \n",
    "\n",
    "#### A - find data on * at least * one COVID measure for y:\n",
    "\n",
    "either:\n",
    "\n",
    "    1 - COVID cases\n",
    "    2 - hospitalizations\n",
    "    3 - deaths\n",
    "#### B - Use RDD to estimate the effect of the following events in Quebec:\n",
    "\n",
    "- D1. 20/3/2020 - lockdown\n",
    "\n",
    "- D2. 31/8/2020 - The reopening of schools \n",
    "\n",
    "- D3. 25/12/2020 - lockdown\n",
    "\n",
    "#### C - provide the following for each:\n",
    "\n",
    "- c.1) A RDD plot similar to the ones shown above\n",
    "\n",
    "- c.2) An interpretation of the p-value on the effect of the measure taken (the cutoff parameter)\n",
    "\n",
    "- c.3) A justification on the design of your regression:\n",
    "\n",
    "       The amount of time included on both sides of the cutoff (longer is not necessarily better)\n",
    "\n",
    "       The polynomial degree (higher is not always better)\n",
    "\n",
    "       Other regression design considerations\n",
    "\n",
    "- c.4) A 2 paragraph explanation of your findings for that event."
   ]
  },
  {
   "cell_type": "markdown",
   "id": "d253f7cf",
   "metadata": {},
   "source": [
    "#### Data Sources:\n",
    "    https://www.donneesquebec.ca/recherche/dataset/covid-19-portrait-quotidien-des-cas-confirmes\n",
    "    https://www.inspq.qc.ca/covid-19/donnees\n",
    "\n",
    "    https://www.inspq.qc.ca/sites/default/files/covid/donnees/covid19-hist.csv\n",
    "    the columns explained  https://github.com/SimonCoulombe/covidtwitterbot\n",
    "    \n",
    "    https://ourworldindata.org/explorers/coronavirus-data-explorer?zoomToSelection=true&time=2020-03-01..latest&facet=none&pickerSort=asc&pickerMetric=location&Metric=Hospital+patients&Interval=7-day+rolling+average&Relative+to+Population=true&Color+by+test+positivity=false&country=~CAN\n",
    "    https://health-infobase.canada.ca/covid-19/#a3\n",
    "    https://health-infobase.canada.ca/src/data/covidLive/covid19-download.csv"
   ]
  },
  {
   "cell_type": "code",
   "execution_count": 1,
   "id": "27d9a73a",
   "metadata": {},
   "outputs": [],
   "source": [
    "import os\n",
    "import matplotlib.pyplot as plt \n",
    "import numpy as np \n",
    "from statsmodels.formula.api import ols\n",
    "import pandas as pd\n",
    "from patsy import dmatrices\n",
    "import scipy.stats as sc\n",
    "from sklearn.preprocessing import PolynomialFeatures\n",
    "from sklearn.metrics import r2_score\n",
    "import seaborn as sns \n",
    "import statsmodels.api as sm\n",
    "\n",
    "from sklearn.linear_model import LinearRegression\n",
    "from sklearn.linear_model import LogisticRegression\n",
    "from sklearn.model_selection import train_test_split\n",
    "from sklearn import linear_model\n",
    "from sklearn import metrics\n",
    "from sklearn.pipeline import make_pipeline\n",
    "from sklearn.metrics import r2_score\n",
    "from sklearn.base import BaseEstimator, TransformerMixin\n",
    "from sklearn.metrics import classification_report\n",
    "from sklearn.metrics import confusion_matrix\n",
    "from sklearn.linear_model import Ridge\n",
    "\n",
    "import scipy.stats\n",
    "import scipy.special\n",
    "\n",
    "from sklearn.model_selection import train_test_split\n",
    "\n",
    "sns.set()"
   ]
  },
  {
   "cell_type": "markdown",
   "id": "ebe0de8a",
   "metadata": {},
   "source": [
    "####  DATAFRAMES"
   ]
  },
  {
   "cell_type": "code",
   "execution_count": 18,
   "id": "d0280ced",
   "metadata": {},
   "outputs": [],
   "source": [
    "# os.getcwd()\n",
    "\n",
    "#    - COVID CASES -\n",
    "#df_cov = pd.read_csv('')\n",
    "#df_cov\n",
    "\n",
    "\n",
    "#    - HOSPITALIZATIONS -\n",
    "#df_hosp = pd.read_csv('data/graph_3-1_page_par_region.csv')\n",
    "#df_hosp\n",
    "\n",
    "#    - DEATH -\n",
    "#df_death = pd.read_csv('https://msss.gouv.qc.ca/professionnels/statistiques/documents/covid19/COVID19_Qc_RapportINSPQ_HistoVigie.csv')\n",
    "#df = pd.read_csv('https://msss.gouv.qc.ca/professionnels/statistiques/documents/covid19/COVID19_Qc_RapportINSPQ_VigieCategories.csv')\n",
    "#df_death = pd.read_csv('https://health-infobase.canada.ca/src/data/covidLive/covid19-download.csv')\n",
    "#df_death"
   ]
  },
  {
   "cell_type": "code",
   "execution_count": 25,
   "id": "63a25415",
   "metadata": {},
   "outputs": [
    {
     "data": {
      "text/plain": [
       "Index(['Date', 'Categorie', 'Nb_Deces_Cumulatif_Total', 'Nb_Cas_Cumulatif',\n",
       "       'Nb_Deces_Cumulatif_CH', 'Nb_Deces_Cumulatif_CHSLD',\n",
       "       'Nb_Deces_Cumulatif_DomInc', 'Nb_Deces_Cumulatif_RI',\n",
       "       'Nb_Deces_Cumulatif_RPA', 'Nb_Deces_Cumulatif_Autre'],\n",
       "      dtype='object')"
      ]
     },
     "execution_count": 25,
     "metadata": {},
     "output_type": "execute_result"
    }
   ],
   "source": [
    "#df.columns\n"
   ]
  },
  {
   "cell_type": "markdown",
   "id": "f157cb00",
   "metadata": {},
   "source": [
    "## 1- COVID CASES"
   ]
  },
  {
   "cell_type": "markdown",
   "id": "4191e2ee",
   "metadata": {},
   "source": [
    "#### A- Dependances and Response definition"
   ]
  },
  {
   "cell_type": "code",
   "execution_count": null,
   "id": "5463cac4",
   "metadata": {},
   "outputs": [],
   "source": [
    "# if a common df is used, use: df.copy()\n"
   ]
  },
  {
   "cell_type": "code",
   "execution_count": 20,
   "id": "c87d01e9",
   "metadata": {},
   "outputs": [],
   "source": [
    "x_cov =[['','',]]\n",
    "y_cov =[['']]"
   ]
  },
  {
   "cell_type": "markdown",
   "id": "c25d30d8",
   "metadata": {},
   "source": [
    "#### B- RDD for D1. 20/3/2020 | D2. 31/8/2020 | D3. 25/12/2020 "
   ]
  },
  {
   "cell_type": "code",
   "execution_count": null,
   "id": "c6f27a86",
   "metadata": {},
   "outputs": [],
   "source": []
  },
  {
   "cell_type": "markdown",
   "id": "7700f0bc",
   "metadata": {},
   "source": [
    "#### C.1) PLOT"
   ]
  },
  {
   "cell_type": "code",
   "execution_count": null,
   "id": "fd36a0e7",
   "metadata": {},
   "outputs": [],
   "source": []
  },
  {
   "cell_type": "markdown",
   "id": "6298dcd7",
   "metadata": {},
   "source": [
    "#### C.2) Interpretation of the p-value on the effect of the measure taken"
   ]
  },
  {
   "cell_type": "code",
   "execution_count": null,
   "id": "f2abebee",
   "metadata": {},
   "outputs": [],
   "source": []
  },
  {
   "cell_type": "markdown",
   "id": "6fb04505",
   "metadata": {},
   "source": [
    "#### C.3) Justification on the design of your regression"
   ]
  },
  {
   "cell_type": "code",
   "execution_count": null,
   "id": "1cb6299c",
   "metadata": {},
   "outputs": [],
   "source": []
  },
  {
   "cell_type": "markdown",
   "id": "7c2b75f4",
   "metadata": {},
   "source": [
    "#### C.4)  paragraph explanation of your findings for that event."
   ]
  },
  {
   "cell_type": "code",
   "execution_count": null,
   "id": "72ee15e0",
   "metadata": {},
   "outputs": [],
   "source": []
  },
  {
   "cell_type": "markdown",
   "id": "75d3af7b",
   "metadata": {},
   "source": [
    "### 2- HOSPITALIZATIONS"
   ]
  },
  {
   "cell_type": "markdown",
   "id": "9a6c3566",
   "metadata": {},
   "source": [
    "#### A- Dependances and Response definition"
   ]
  },
  {
   "cell_type": "code",
   "execution_count": null,
   "id": "d6ac9254",
   "metadata": {},
   "outputs": [],
   "source": [
    "# if a common df is used, use: df.copy()\n"
   ]
  },
  {
   "cell_type": "markdown",
   "id": "2f343634",
   "metadata": {},
   "source": [
    "#### B- RDD for D1. 20/3/2020 | D2. 31/8/2020 | D3. 25/12/2020"
   ]
  },
  {
   "cell_type": "code",
   "execution_count": null,
   "id": "e77cc245",
   "metadata": {},
   "outputs": [],
   "source": []
  },
  {
   "cell_type": "markdown",
   "id": "883ff281",
   "metadata": {},
   "source": [
    "#### C.1) PLOT"
   ]
  },
  {
   "cell_type": "code",
   "execution_count": null,
   "id": "31fa11e1",
   "metadata": {},
   "outputs": [],
   "source": []
  },
  {
   "cell_type": "markdown",
   "id": "0f7f1840",
   "metadata": {},
   "source": [
    "#### C.2) Interpretation of the p-value on the effect of the measure taken"
   ]
  },
  {
   "cell_type": "code",
   "execution_count": null,
   "id": "b4ff4d87",
   "metadata": {},
   "outputs": [],
   "source": []
  },
  {
   "cell_type": "markdown",
   "id": "1e422f4f",
   "metadata": {},
   "source": [
    "#### C.3) Justification on the design of your regression"
   ]
  },
  {
   "cell_type": "code",
   "execution_count": null,
   "id": "59a49787",
   "metadata": {},
   "outputs": [],
   "source": []
  },
  {
   "cell_type": "markdown",
   "id": "ac1464b9",
   "metadata": {},
   "source": [
    "#### C.4) paragraph explanation of your findings for that event."
   ]
  },
  {
   "cell_type": "code",
   "execution_count": null,
   "id": "078ab8ec",
   "metadata": {},
   "outputs": [],
   "source": []
  },
  {
   "cell_type": "markdown",
   "id": "e27108e7",
   "metadata": {},
   "source": [
    "### 3- DEATHS"
   ]
  },
  {
   "cell_type": "markdown",
   "id": "4e49f209",
   "metadata": {},
   "source": [
    "#### A- Dependances and Response definition"
   ]
  },
  {
   "cell_type": "code",
   "execution_count": null,
   "id": "a192f0d1",
   "metadata": {},
   "outputs": [],
   "source": [
    "# if a common df is used, use: df.copy()\n"
   ]
  },
  {
   "cell_type": "markdown",
   "id": "1cd0ac88",
   "metadata": {},
   "source": [
    "#### B- RDD for D1. 20/3/2020 | D2. 31/8/2020 | D3. 25/12/2020"
   ]
  },
  {
   "cell_type": "code",
   "execution_count": null,
   "id": "d11310b0",
   "metadata": {},
   "outputs": [],
   "source": []
  },
  {
   "cell_type": "markdown",
   "id": "781ceeed",
   "metadata": {},
   "source": [
    "#### C.1) PLOT"
   ]
  },
  {
   "cell_type": "code",
   "execution_count": null,
   "id": "a8e05c99",
   "metadata": {},
   "outputs": [],
   "source": []
  },
  {
   "cell_type": "markdown",
   "id": "2c06308d",
   "metadata": {},
   "source": [
    "#### C.2) Interpretation of the p-value on the effect of the measure taken"
   ]
  },
  {
   "cell_type": "code",
   "execution_count": null,
   "id": "c66a4ab5",
   "metadata": {},
   "outputs": [],
   "source": []
  },
  {
   "cell_type": "markdown",
   "id": "794f7c33",
   "metadata": {},
   "source": [
    "#### C.3) Justification on the design of your regression"
   ]
  },
  {
   "cell_type": "code",
   "execution_count": null,
   "id": "71612f22",
   "metadata": {},
   "outputs": [],
   "source": []
  },
  {
   "cell_type": "markdown",
   "id": "28ffcbf1",
   "metadata": {},
   "source": [
    "#### C.4)  paragraph explanation of your findings for that event."
   ]
  },
  {
   "cell_type": "code",
   "execution_count": null,
   "id": "6d78ef91",
   "metadata": {},
   "outputs": [],
   "source": []
  },
  {
   "cell_type": "code",
   "execution_count": null,
   "id": "742d60b8",
   "metadata": {},
   "outputs": [],
   "source": []
  },
  {
   "cell_type": "code",
   "execution_count": null,
   "id": "361943a0",
   "metadata": {},
   "outputs": [],
   "source": []
  },
  {
   "cell_type": "markdown",
   "id": "748c5616",
   "metadata": {},
   "source": [
    "# - CONCLUSION -\n",
    "### A 2 paragraph explanation of your findings for that event."
   ]
  },
  {
   "cell_type": "code",
   "execution_count": null,
   "id": "59093561",
   "metadata": {},
   "outputs": [],
   "source": []
  }
 ],
 "metadata": {
  "kernelspec": {
   "display_name": "Python 3 (ipykernel)",
   "language": "python",
   "name": "python3"
  },
  "language_info": {
   "codemirror_mode": {
    "name": "ipython",
    "version": 3
   },
   "file_extension": ".py",
   "mimetype": "text/x-python",
   "name": "python",
   "nbconvert_exporter": "python",
   "pygments_lexer": "ipython3",
   "version": "3.9.13"
  }
 },
 "nbformat": 4,
 "nbformat_minor": 5
}
